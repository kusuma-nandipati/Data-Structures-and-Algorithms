{
 "cells": [
  {
   "cell_type": "code",
   "execution_count": 4,
   "id": "d8059a29",
   "metadata": {},
   "outputs": [
    {
     "name": "stdout",
     "output_type": "stream",
     "text": [
      "enter numbers(with space seperated10 20 30 40 90\n",
      "enter num10\n",
      "0\n"
     ]
    }
   ],
   "source": [
    "#code for binary search using the concept of recursion\n",
    "#T.C:O(log n)\n",
    "def binarySearch(arr,x,left,right):\n",
    "    if left>right:\n",
    "        return -1\n",
    "    mid=left+(right-left)//2\n",
    "    if arr[mid]==x:\n",
    "        return mid\n",
    "    elif arr[mid]<x:\n",
    "        return binarySearch(arr,x,mid+1,right)\n",
    "    else:\n",
    "        return binarySearch(arr,x,left,mid-1)\n",
    "    \n",
    "    \n",
    "    \n",
    "#driver code\n",
    "if __name__==\"__main__\":\n",
    "    arr=list(map(int,input(\"enter numbers(with space seperated\").split()))\n",
    "    x=int(input(\"enter num\"))\n",
    "    left=0\n",
    "    right=len(arr)-1\n",
    "    result=binarySearch(arr,x,left,right)\n",
    "    print(result)"
   ]
  },
  {
   "cell_type": "code",
   "execution_count": null,
   "id": "3321437d",
   "metadata": {},
   "outputs": [],
   "source": []
  }
 ],
 "metadata": {
  "kernelspec": {
   "display_name": "Python 3 (ipykernel)",
   "language": "python",
   "name": "python3"
  },
  "language_info": {
   "codemirror_mode": {
    "name": "ipython",
    "version": 3
   },
   "file_extension": ".py",
   "mimetype": "text/x-python",
   "name": "python",
   "nbconvert_exporter": "python",
   "pygments_lexer": "ipython3",
   "version": "3.11.5"
  }
 },
 "nbformat": 4,
 "nbformat_minor": 5
}
