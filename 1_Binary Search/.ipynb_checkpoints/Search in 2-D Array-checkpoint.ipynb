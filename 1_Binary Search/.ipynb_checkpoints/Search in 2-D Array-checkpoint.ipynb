{
 "cells": [
  {
   "cell_type": "code",
   "execution_count": 4,
   "id": "50817fa1",
   "metadata": {},
   "outputs": [
    {
     "name": "stdout",
     "output_type": "stream",
     "text": [
      "enter no.of rows3\n",
      "enter no.of columns3\n",
      "enter elements in row1--2 4 5\n",
      "enter elements in row2--55 66 77\n",
      "enter elements in row3--7 5 2\n",
      "enter target number9\n",
      "False\n"
     ]
    }
   ],
   "source": [
    "#function definition\n",
    "#T.C:O(log(m*n))\n",
    "def SearchIn2D(arr,target):\n",
    "    m=len(arr)\n",
    "    if m==0:\n",
    "        return False\n",
    "    n=len(arr[0])\n",
    "    left,right=0,m*n-1\n",
    "    while left<=right:\n",
    "        mid=left+(right-left)//2\n",
    "        mid_element=arr[mid//n][mid%n]\n",
    "        if target==mid_element:\n",
    "            return True\n",
    "        elif target>mid_element:\n",
    "            left = mid+1\n",
    "        else:\n",
    "            right =mid-1\n",
    "    return False\n",
    "    \n",
    "\n",
    "\n",
    "\n",
    "#driver code\n",
    "if __name__==\"__main__\":\n",
    "    arr=[]\n",
    "    rows=int(input(\"enter no.of rows\"))\n",
    "    cols=int(input(\"enter no.of columns\"))\n",
    "    for i in range(rows):\n",
    "        ele=list(map(int,input(f\"enter elements in row{i+1}--\").split()))\n",
    "        arr.append(ele)\n",
    "    target=int(input(\"enter target number\"))\n",
    "    search=SearchIn2D(arr,target)\n",
    "    print(search)"
   ]
  },
  {
   "cell_type": "code",
   "execution_count": null,
   "id": "ee6bd89b",
   "metadata": {},
   "outputs": [],
   "source": []
  }
 ],
 "metadata": {
  "kernelspec": {
   "display_name": "Python 3 (ipykernel)",
   "language": "python",
   "name": "python3"
  },
  "language_info": {
   "codemirror_mode": {
    "name": "ipython",
    "version": 3
   },
   "file_extension": ".py",
   "mimetype": "text/x-python",
   "name": "python",
   "nbconvert_exporter": "python",
   "pygments_lexer": "ipython3",
   "version": "3.11.5"
  }
 },
 "nbformat": 4,
 "nbformat_minor": 5
}
