{
 "cells": [
  {
   "cell_type": "markdown",
   "id": "798a35c8",
   "metadata": {},
   "source": [
    "# 1)K-Smallest Element"
   ]
  },
  {
   "cell_type": "code",
   "execution_count": 1,
   "id": "55bfd89d",
   "metadata": {},
   "outputs": [
    {
     "name": "stdout",
     "output_type": "stream",
     "text": [
      "20\n"
     ]
    }
   ],
   "source": [
    "#T.C:O(n)--avg/best case\n",
    "#O(n^2)-Worst Case\n",
    "#using selection procedure\n",
    "def partition(arr,p,q):\n",
    "    pivot=arr[p]\n",
    "    i=p\n",
    "    for j in range(i+1,q+1):\n",
    "        if arr[j]<=pivot:\n",
    "            i +=1\n",
    "            arr[i],arr[j]=arr[j],arr[i]\n",
    "    arr[i],arr[p]=arr[p],arr[i]\n",
    "    return i\n",
    "            \n",
    "def quickselect(arr,k,p,q):\n",
    "    m=partition(arr,p,q)\n",
    "    if k==m+1:\n",
    "        return arr[m]\n",
    "    elif k<m:\n",
    "        return quickselect(arr,p,m-1)\n",
    "    else:\n",
    "        return quickselect(arr,m+1,q)\n",
    "    \n",
    "    \n",
    "\n",
    "\n",
    "\n",
    "#driver code\n",
    "arr = [20,47,52,12,26,69,74]\n",
    "k=2\n",
    "p=0\n",
    "q=len(arr)-1\n",
    "result=quickselect(arr,k,p,q)\n",
    "print(result)"
   ]
  },
  {
   "cell_type": "markdown",
   "id": "eb6bc409",
   "metadata": {},
   "source": [
    "# 3)k-th Largest element in a sorted array"
   ]
  },
  {
   "cell_type": "code",
   "execution_count": 5,
   "id": "157a7ce5",
   "metadata": {},
   "outputs": [
    {
     "name": "stdout",
     "output_type": "stream",
     "text": [
      "89\n"
     ]
    }
   ],
   "source": [
    "#using quick select procedure\n",
    "#T.C:O(n^2)\n",
    "def partition(arr,p,q):\n",
    "    pivot=arr[p]\n",
    "    i=p\n",
    "    for j in range(i+1,q+1):\n",
    "        if arr[j]>=pivot:\n",
    "            i +=1\n",
    "            arr[i],arr[j]=arr[j],arr[i]\n",
    "    arr[i],arr[p]=arr[p],arr[i]\n",
    "    return i\n",
    "            \n",
    "def quickselect(arr,k,p,q):\n",
    "    m=partition(arr,p,q)\n",
    "    if k==m+1:\n",
    "        return arr[m]\n",
    "    elif k<m:\n",
    "        return quickselect(arr,k,p,m-1)\n",
    "    else:\n",
    "        return quickselect(arr,k,m+1,q)\n",
    "    \n",
    "    \n",
    "\n",
    "\n",
    "\n",
    "#driver code\n",
    "arr = [40, 25, 68, 79, 52, 66, 89, 97]\n",
    "k=2\n",
    "p=0\n",
    "q=len(arr)-1\n",
    "result=quickselect(arr,k,p,q)\n",
    "print(result)"
   ]
  },
  {
   "cell_type": "code",
   "execution_count": 1,
   "id": "fdcb0acb",
   "metadata": {},
   "outputs": [
    {
     "name": "stdout",
     "output_type": "stream",
     "text": [
      "89\n"
     ]
    }
   ],
   "source": [
    "#T.C:O(n log k)\n",
    "#using heap retrieving k-largest element\n",
    "import heapq\n",
    "def largest(arr,k):\n",
    "    heap=[]\n",
    "    for num in arr:\n",
    "        heapq.heappush(heap,num)\n",
    "        if len(heap)>k:\n",
    "            heapq.heappop(heap)\n",
    "    return heap[0]\n",
    "\n",
    "#driver code\n",
    "arr= [40, 25, 68, 79, 52, 66, 89, 97]\n",
    "k=2\n",
    "result=largest(arr,k)\n",
    "print(result)"
   ]
  },
  {
   "cell_type": "markdown",
   "id": "3b066e58",
   "metadata": {},
   "source": [
    "# 2)Sort Colors"
   ]
  },
  {
   "cell_type": "markdown",
   "id": "385201e5",
   "metadata": {},
   "source": [
    "Nums = [2,0,2,1,1,0]\n",
    "Result = [0,0,1,1,2,2]"
   ]
  },
  {
   "cell_type": "code",
   "execution_count": 6,
   "id": "f8d14d5d",
   "metadata": {},
   "outputs": [
    {
     "name": "stdout",
     "output_type": "stream",
     "text": [
      "[0, 0, 1, 1, 2, 2]\n"
     ]
    }
   ],
   "source": [
    "#T.C:O(n)\n",
    "#method definition\n",
    "def sort_Colors(arr):\n",
    "    left,mid,right=0,0,len(arr)-1\n",
    "    while mid <=right:\n",
    "        if arr[mid]==0:\n",
    "            arr[left],arr[mid]=arr[mid],arr[left]\n",
    "            left +=1\n",
    "            mid +=1\n",
    "        elif arr[mid]==1:\n",
    "            mid +=1\n",
    "        else:\n",
    "            arr[mid],arr[right]=arr[right],arr[mid]\n",
    "            right -=1\n",
    "    return arr\n",
    "\n",
    "\n",
    "\n",
    "\n",
    "\n",
    "#driver code\n",
    "arr=[2,0,2,1,1,0]\n",
    "result=sort_Colors(arr)\n",
    "print(result)"
   ]
  },
  {
   "cell_type": "markdown",
   "id": "ea25123d",
   "metadata": {},
   "source": [
    "# 4)Majority element"
   ]
  },
  {
   "cell_type": "code",
   "execution_count": 16,
   "id": "8f00afcb",
   "metadata": {},
   "outputs": [
    {
     "name": "stdout",
     "output_type": "stream",
     "text": [
      "2\n"
     ]
    }
   ],
   "source": [
    "\n",
    "#T.C:O(n log n)\n",
    "#counting --n\n",
    "  #sort(Merge+Insertion=Timsort)-->O(n log n)\n",
    "    #total time complexity=n+n log n=O(n log n)\n",
    "\n",
    "#intution:when we sorted the array,majority element will be occupied in the middle \n",
    "def majority_element(arr):\n",
    "    n=len(arr)\n",
    "    arr.sort()\n",
    "    count=0\n",
    "    element=arr[n//2]\n",
    "    for i in arr:\n",
    "        if i==element:\n",
    "            count +=1\n",
    "        if count>n//2:\n",
    "            return element\n",
    "    \n",
    "    \n",
    "    \n",
    "#driver code\n",
    "arr = [2, 2, 1, 1, 1, 2 ,2]\n",
    "result=majority_element(arr)\n",
    "print(result)"
   ]
  },
  {
   "cell_type": "markdown",
   "id": "49c69b47",
   "metadata": {},
   "source": [
    "# 5)Peak Element"
   ]
  },
  {
   "cell_type": "code",
   "execution_count": 21,
   "id": "82707376",
   "metadata": {},
   "outputs": [
    {
     "name": "stdout",
     "output_type": "stream",
     "text": [
      "3\n"
     ]
    }
   ],
   "source": [
    "#T.C:O(n)#scans the array once\n",
    "#Brute-Force\n",
    "def peak_element(arr):\n",
    "    n=len(arr)\n",
    "    for i in range(len(arr)):\n",
    "        left=arr[i-1]if i>0 else float('-inf')\n",
    "        right=arr[i+1]if i<n-1 else float('-inf')\n",
    "        if arr[i]>left and arr[i]>right:\n",
    "            return arr[i]\n",
    "        \n",
    "    \n",
    "    \n",
    "    \n",
    "#driver code\n",
    "arr=[1,2,3,1]\n",
    "result=peak_element(arr)\n",
    "print(result)"
   ]
  },
  {
   "cell_type": "code",
   "execution_count": 25,
   "id": "26de742b",
   "metadata": {},
   "outputs": [
    {
     "name": "stdout",
     "output_type": "stream",
     "text": [
      "3\n"
     ]
    }
   ],
   "source": [
    "#optimized approach involving binary search\n",
    "#T.C:O(log n)\n",
    "#function definition\n",
    "def peak_element(arr):\n",
    "    left,right=0,len(arr)-1\n",
    "    while left<right:\n",
    "        mid=left+(right-left)//2\n",
    "        if arr[mid]<arr[mid]+1:\n",
    "            left =mid+1\n",
    "        else:\n",
    "            right=mid\n",
    "    return left #left ==right at the peak element\n",
    "    \n",
    "    \n",
    "    \n",
    "    \n",
    "#driver code\n",
    "arr=[1,2,3,1]\n",
    "result=peak_element(arr)\n",
    "print(result)"
   ]
  },
  {
   "cell_type": "code",
   "execution_count": null,
   "id": "e1050c4a",
   "metadata": {},
   "outputs": [],
   "source": []
  }
 ],
 "metadata": {
  "kernelspec": {
   "display_name": "Python 3 (ipykernel)",
   "language": "python",
   "name": "python3"
  },
  "language_info": {
   "codemirror_mode": {
    "name": "ipython",
    "version": 3
   },
   "file_extension": ".py",
   "mimetype": "text/x-python",
   "name": "python",
   "nbconvert_exporter": "python",
   "pygments_lexer": "ipython3",
   "version": "3.11.5"
  }
 },
 "nbformat": 4,
 "nbformat_minor": 5
}
