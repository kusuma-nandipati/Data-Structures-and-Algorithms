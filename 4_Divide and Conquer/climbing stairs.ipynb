{
 "cells": [
  {
   "cell_type": "code",
   "execution_count": 7,
   "id": "ac5b0f27",
   "metadata": {},
   "outputs": [
    {
     "name": "stdout",
     "output_type": "stream",
     "text": [
      "8\n"
     ]
    }
   ],
   "source": [
    "#T.C:O(2^n)\n",
    "#Brute-Force\n",
    "#by divide and conquer\n",
    "def climbingstairs(n):\n",
    "    if n<=2:\n",
    "        return n\n",
    "    else:\n",
    "        return climbingstairs(n-1)+climbingstairs(n-2)\n",
    "n=5\n",
    "result=climbingstairs(n)\n",
    "print(result)"
   ]
  },
  {
   "cell_type": "code",
   "execution_count": 8,
   "id": "6ce6655e",
   "metadata": {},
   "outputs": [
    {
     "name": "stdout",
     "output_type": "stream",
     "text": [
      "280571172992510140037611932413038677189525\n"
     ]
    }
   ],
   "source": [
    "#Optimized Approach\n",
    "#using Dynamic Programming\n",
    "#T.C:O(n)\n",
    "def climbingstairs(n):\n",
    "    if n<=2:\n",
    "        return n\n",
    "    else:\n",
    "        first,second=1,2\n",
    "        for i in range(3,n+1):\n",
    "            third=first+second\n",
    "            first,second=second,third\n",
    "        return second\n",
    "n=199\n",
    "result=climbingstairs(n)\n",
    "print(result)"
   ]
  },
  {
   "cell_type": "code",
   "execution_count": null,
   "id": "612ea4bd",
   "metadata": {},
   "outputs": [],
   "source": []
  }
 ],
 "metadata": {
  "kernelspec": {
   "display_name": "Python 3 (ipykernel)",
   "language": "python",
   "name": "python3"
  },
  "language_info": {
   "codemirror_mode": {
    "name": "ipython",
    "version": 3
   },
   "file_extension": ".py",
   "mimetype": "text/x-python",
   "name": "python",
   "nbconvert_exporter": "python",
   "pygments_lexer": "ipython3",
   "version": "3.11.5"
  }
 },
 "nbformat": 4,
 "nbformat_minor": 5
}
