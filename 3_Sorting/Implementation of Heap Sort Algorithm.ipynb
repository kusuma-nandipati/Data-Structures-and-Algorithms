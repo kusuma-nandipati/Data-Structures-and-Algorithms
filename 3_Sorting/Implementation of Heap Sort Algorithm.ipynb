{
 "cells": [
  {
   "cell_type": "code",
   "execution_count": 3,
   "id": "58e381f1",
   "metadata": {},
   "outputs": [
    {
     "name": "stdout",
     "output_type": "stream",
     "text": [
      "[1, 5, 6, 7, 9]\n"
     ]
    }
   ],
   "source": [
    "#function definition\n",
    "#T.C:O(n log n)\n",
    "def heapify(arr,n,i):\n",
    "    largest=i\n",
    "    l=2*i+1\n",
    "    r=2*i+2\n",
    "    if l<n and arr[l]>arr[largest]:\n",
    "        largest=l\n",
    "    if r<n and arr[r]>arr[largest]:\n",
    "        largest=r\n",
    "    if largest !=i:\n",
    "        arr[i],arr[largest]=arr[largest],arr[i]\n",
    "        heapify(arr,n,largest)\n",
    "\n",
    "def buildmaxheap(arr):\n",
    "    n=len(arr)\n",
    "    for i in range(n//2-1,-1,-1):\n",
    "        heapify(arr,n,i)\n",
    "    #deletion to get the sorted array\n",
    "    for i in range(n-1,0,-1):\n",
    "        arr[0],arr[i]=arr[i],arr[0]\n",
    "        heapify(arr,i,0)\n",
    "    return arr\n",
    "\n",
    "    \n",
    "#driver code\n",
    "if __name__==\"__main__\":\n",
    "    arr=[7,1,5,6,9]\n",
    "    sorted_array=buildmaxheap(arr)\n",
    "    print(sorted_array)"
   ]
  },
  {
   "cell_type": "code",
   "execution_count": 4,
   "id": "9444926f",
   "metadata": {},
   "outputs": [
    {
     "name": "stdout",
     "output_type": "stream",
     "text": [
      "[9, 7, 6, 3, 2, 1]\n"
     ]
    }
   ],
   "source": [
    "#Implementing heapsort using minheap\n",
    "#function definition\n",
    "#overall T.C:O(n logn)\n",
    "def heapify(arr,n,i):\n",
    "    smallest=i\n",
    "    l=2*i+1\n",
    "    r=2*i+2\n",
    "    if l<n and arr[l]<arr[smallest]:\n",
    "        smallest=l\n",
    "    if r<n and arr[r]<arr[smallest]:\n",
    "        smallest=r\n",
    "    if smallest !=i:\n",
    "        arr[smallest],arr[i]=arr[i],arr[smallest]\n",
    "        heapify(arr,n,smallest)         \n",
    "        \n",
    "    \n",
    "    \n",
    "    \n",
    "    \n",
    "    \n",
    "def BuildminHeap(arr):\n",
    "    n=len(arr)\n",
    "    for i in range(n//2-1,-1,-1):\n",
    "        heapify(arr,n,i)\n",
    "    for i in range(n-1,0,-1):\n",
    "        arr[0],arr[i]=arr[i],arr[0]\n",
    "        heapify(arr,i,0)\n",
    "    return arr\n",
    "    \n",
    "#driver code\n",
    "if __name__==\"__main__\":\n",
    "    arr=[7,3,9,1,6,2]\n",
    "    sorted_arr=BuildminHeap(arr)\n",
    "    print(sorted_arr)\n",
    "    "
   ]
  },
  {
   "cell_type": "code",
   "execution_count": null,
   "id": "b24e82f1",
   "metadata": {},
   "outputs": [],
   "source": []
  }
 ],
 "metadata": {
  "kernelspec": {
   "display_name": "Python 3 (ipykernel)",
   "language": "python",
   "name": "python3"
  },
  "language_info": {
   "codemirror_mode": {
    "name": "ipython",
    "version": 3
   },
   "file_extension": ".py",
   "mimetype": "text/x-python",
   "name": "python",
   "nbconvert_exporter": "python",
   "pygments_lexer": "ipython3",
   "version": "3.11.5"
  }
 },
 "nbformat": 4,
 "nbformat_minor": 5
}
