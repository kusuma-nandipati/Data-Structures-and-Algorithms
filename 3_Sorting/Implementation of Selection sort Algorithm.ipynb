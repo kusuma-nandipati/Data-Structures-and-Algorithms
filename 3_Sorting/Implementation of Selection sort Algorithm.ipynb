{
 "cells": [
  {
   "cell_type": "code",
   "execution_count": 8,
   "id": "62e52d94",
   "metadata": {},
   "outputs": [
    {
     "name": "stdout",
     "output_type": "stream",
     "text": [
      "[0, 5, 6, 11, 12, 13]\n"
     ]
    }
   ],
   "source": [
    "#T.C:O(n^2)\n",
    "#function definition\n",
    "def selectionsort(arr):\n",
    "    n=len(arr)\n",
    "    for i in range(n):\n",
    "        min_index=i#the first elements with minimum values are got sorted\n",
    "        for j in range(i+1,n):\n",
    "            if arr[j]<arr[min_index]:\n",
    "                min_index=j\n",
    "                #swap after every pass\n",
    "        arr[i],arr[min_index]=arr[min_index],arr[i]\n",
    "    return arr\n",
    "\n",
    "#drivercode\n",
    "if __name__==\"__main__\":\n",
    "    arr=[13,5,6,0,12,11]\n",
    "    sortedarr=selectionsort(arr)\n",
    "    print(sortedarr)"
   ]
  },
  {
   "cell_type": "code",
   "execution_count": null,
   "id": "3da9611f",
   "metadata": {},
   "outputs": [],
   "source": []
  }
 ],
 "metadata": {
  "kernelspec": {
   "display_name": "Python 3 (ipykernel)",
   "language": "python",
   "name": "python3"
  },
  "language_info": {
   "codemirror_mode": {
    "name": "ipython",
    "version": 3
   },
   "file_extension": ".py",
   "mimetype": "text/x-python",
   "name": "python",
   "nbconvert_exporter": "python",
   "pygments_lexer": "ipython3",
   "version": "3.11.5"
  }
 },
 "nbformat": 4,
 "nbformat_minor": 5
}
