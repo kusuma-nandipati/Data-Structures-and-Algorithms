{
 "cells": [
  {
   "cell_type": "markdown",
   "id": "16c8c6ad",
   "metadata": {},
   "source": [
    "# insertion of node at Beginning"
   ]
  },
  {
   "cell_type": "code",
   "execution_count": 32,
   "id": "ece27b1d",
   "metadata": {},
   "outputs": [
    {
     "name": "stdout",
     "output_type": "stream",
     "text": [
      "45  "
     ]
    }
   ],
   "source": [
    "class Node:\n",
    "    #class that has creating a node with data and next pointer chambers\n",
    "    def __init__(self,data):\n",
    "        self.data=data\n",
    "        self.next=None\n",
    "class LinkedList:\n",
    "    #initializing head pointer as null\n",
    "    def __init__(self):\n",
    "        self.head=None\n",
    "        '''inserting nodes to the beginning'''\n",
    "    def insertAtBeginning(self,new_data):\n",
    "        new_node=Node(new_data)\n",
    "        new_node.next=self.head\n",
    "        self.head=new_node\n",
    "        \n",
    "        \n",
    "        \n",
    "        \n",
    "        '''inserting node at the end'''\n",
    "    def insertAtend(self,new_data):\n",
    "        new_node=Node(new_data)\n",
    "        temp=self.head\n",
    "        #if the list is initially empty-->return the new_node as initial node\n",
    "        if self.head is None:\n",
    "            self.head=new_node\n",
    "            return\n",
    "        while temp.next:\n",
    "            temp=temp.next\n",
    "        temp.next=new_node\n",
    "        \n",
    "        \n",
    "        \n",
    "        \n",
    "        '''insertion at the specific index'''\n",
    "    def insertAtPos(self,index,new_data):\n",
    "        new_node=Node(new_data)\n",
    "        temp=self.head\n",
    "        count=0\n",
    "        #if insertion is at the beginning\n",
    "        if index==0:\n",
    "            new_node.next=self.head\n",
    "            self.head=new_node\n",
    "            return\n",
    "            \n",
    "        while temp is not None and count<index-1:\n",
    "            temp=temp.next\n",
    "            count +=1\n",
    "        if temp is None:\n",
    "            print(\"index out of range\")\n",
    "            return\n",
    "        new_node.next=temp.next\n",
    "        temp.next=new_node\n",
    "        \n",
    "        '''traversing the linklist and printing data values'''\n",
    "    def printLinkedList(self):\n",
    "        temp=self.head\n",
    "        while temp:\n",
    "            print(str(temp.data)+\" \",end=\" \")\n",
    "            temp=temp.next\n",
    "#driver code\n",
    "llist=LinkedList()\n",
    "\n",
    "llist.insertAtPos(0,45)\n",
    "llist.printLinkedList()"
   ]
  },
  {
   "cell_type": "code",
   "execution_count": null,
   "id": "d3a43868",
   "metadata": {},
   "outputs": [],
   "source": []
  }
 ],
 "metadata": {
  "kernelspec": {
   "display_name": "Python 3 (ipykernel)",
   "language": "python",
   "name": "python3"
  },
  "language_info": {
   "codemirror_mode": {
    "name": "ipython",
    "version": 3
   },
   "file_extension": ".py",
   "mimetype": "text/x-python",
   "name": "python",
   "nbconvert_exporter": "python",
   "pygments_lexer": "ipython3",
   "version": "3.11.5"
  }
 },
 "nbformat": 4,
 "nbformat_minor": 5
}
