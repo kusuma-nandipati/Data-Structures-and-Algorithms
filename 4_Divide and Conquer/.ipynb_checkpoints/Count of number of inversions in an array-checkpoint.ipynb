{
 "cells": [
  {
   "cell_type": "code",
   "execution_count": null,
   "id": "7aa69fed",
   "metadata": {},
   "outputs": [],
   "source": [
    "#method definition\n",
    "#Time Complexity:O(n^2)\n",
    "#space complexity:O(1)\n",
    "def inversionCount(arr):\n",
    "    res=[]\n",
    "    for i in range(0,len(arr)):\n",
    "        j=i+1\n",
    "        for j in range(j,len(arr)):\n",
    "            if arr[j]<arr[i]:\n",
    "                res.append(j)\n",
    "    return len(res)\n",
    "                \n",
    "        \n",
    "\n",
    "\n",
    "#driver code\n",
    "arr=[70,50,60,10,20,30,80,15]\n",
    "result=inversionCount(arr)\n",
    "print(\"count is:\",result)"
   ]
  },
  {
   "cell_type": "code",
   "execution_count": 29,
   "id": "7f462e7a",
   "metadata": {},
   "outputs": [
    {
     "name": "stdout",
     "output_type": "stream",
     "text": [
      "count of inversions:  17\n"
     ]
    }
   ],
   "source": [
    "#optimal approach to count no.of inversions using merge sort\n",
    "#T.C:O(n log n)\n",
    "#S.C:O(n)\n",
    "#method definition for count inversion\n",
    "def countInversion(nums,i,j):\n",
    "    count=0\n",
    "    if i==j:\n",
    "         return 0\n",
    "    else:\n",
    "        mid=i+(j-i)//2\n",
    "        cnt1=countInversion(nums,i,mid)\n",
    "        cnt2=countInversion(nums,mid+1,j)\n",
    "        final_count=mergeProcedure(nums,i,mid,j)\n",
    "        return cnt1 + cnt2 + final_count\n",
    "    \n",
    "#method definition for mergeProcedure\n",
    "def mergeProcedure(arr,left,mid,right):\n",
    "    L=arr[left:mid+1]\n",
    "    R=arr[mid+1:right+1]\n",
    "    i=j=0\n",
    "    k=left\n",
    "    inversions=0\n",
    "    while i<len(L) and j<len(R):\n",
    "        if L[i]<=R[j]:\n",
    "            arr[k]=L[i]\n",
    "            i +=1\n",
    "        else:\n",
    "            arr[k]=R[j]\n",
    "            j +=1\n",
    "            inversions +=(len(L)-i)\n",
    "        k+=1\n",
    "    #copy remaning elements of left array to k-array\n",
    "    while i<len(L):\n",
    "        arr[k]=L[i]\n",
    "        i +=1\n",
    "        k +=1\n",
    "    while j<len(R):\n",
    "        arr[k]=R[j]\n",
    "        j +=1\n",
    "        k +=1\n",
    "    return inversions\n",
    "    \n",
    "    \n",
    "    \n",
    "#driver code\n",
    "arr=[70,50,60,10,20,30,80,15]\n",
    "i=0\n",
    "j=len(arr)-1\n",
    "result=countInversion(arr,i,j)\n",
    "print(\"count of inversions: \",result)"
   ]
  },
  {
   "cell_type": "code",
   "execution_count": null,
   "id": "ab2e956b",
   "metadata": {},
   "outputs": [],
   "source": []
  },
  {
   "cell_type": "code",
   "execution_count": null,
   "id": "0a454b91",
   "metadata": {},
   "outputs": [],
   "source": []
  }
 ],
 "metadata": {
  "kernelspec": {
   "display_name": "Python 3 (ipykernel)",
   "language": "python",
   "name": "python3"
  },
  "language_info": {
   "codemirror_mode": {
    "name": "ipython",
    "version": 3
   },
   "file_extension": ".py",
   "mimetype": "text/x-python",
   "name": "python",
   "nbconvert_exporter": "python",
   "pygments_lexer": "ipython3",
   "version": "3.11.5"
  }
 },
 "nbformat": 4,
 "nbformat_minor": 5
}
