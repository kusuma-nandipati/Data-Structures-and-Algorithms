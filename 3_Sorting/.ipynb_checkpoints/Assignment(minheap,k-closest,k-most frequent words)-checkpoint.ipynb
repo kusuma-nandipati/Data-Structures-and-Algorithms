{
 "cells": [
  {
   "cell_type": "markdown",
   "id": "289e9977",
   "metadata": {},
   "source": [
    "'''arr=[1,3,7,9,12,10,8,16,18,22,27] \n",
    "1)Create a build Heap method that returns a minheap'''"
   ]
  },
  {
   "cell_type": "code",
   "execution_count": 7,
   "id": "eb5ec503",
   "metadata": {},
   "outputs": [
    {
     "name": "stdout",
     "output_type": "stream",
     "text": [
      "[1, 3, 2, 7, 6, 9]\n"
     ]
    }
   ],
   "source": [
    "#Implementing minheap\n",
    "#function definition\n",
    "#T.C:O(n)\n",
    "def heapify(arr,n,i):\n",
    "    smallest=i\n",
    "    l=2*i+1\n",
    "    r=2*i+2/\n",
    "    if l<n and arr[l]<arr[smallest]:\n",
    "        smallest=l\n",
    "    if r<n and arr[r]<arr[smallest]:\n",
    "        smallest=r\n",
    "    if smallest !=i:\n",
    "        arr[smallest],arr[i]=arr[i],arr[smallest]\n",
    "        heapify(arr,n,smallest)         \n",
    "        \n",
    "    \n",
    "    \n",
    "    \n",
    "    \n",
    "    \n",
    "def BuildHeap(arr):\n",
    "    n=len(arr)\n",
    "    for i in range(n//2-1,-1,-1):\n",
    "        heapify(arr,n,i)\n",
    "    return arr\n",
    "    \n",
    "#driver code\n",
    "if __name__==\"__main__\":\n",
    "    arr=[7,3,9,1,6,2]\n",
    "    sorted_arr=BuildHeap(arr)\n",
    "    print(sorted_arr)\n",
    "    "
   ]
  },
  {
   "cell_type": "markdown",
   "id": "4fb214af",
   "metadata": {},
   "source": [
    "2). find k-closest points to the origin\n",
    "points=[[1,3],[-2,2]]\n",
    "ex:k=1\n",
    "   output=[-2,2]"
   ]
  },
  {
   "cell_type": "code",
   "execution_count": 10,
   "id": "946e01b1",
   "metadata": {},
   "outputs": [
    {
     "name": "stdout",
     "output_type": "stream",
     "text": [
      "[[-2, 2], [1, 3]]\n"
     ]
    }
   ],
   "source": [
    "#O(n logn )\n",
    "\n",
    "def kclosest(points,k):\n",
    "    points.sort(key=lambda p:p[0]**2+p[1]**2)\n",
    "    return points[:k]\n",
    "#driver code\n",
    "points=[[1,3],[-2,2,]]\n",
    "k=1\n",
    "result=kclosest(points,k)\n",
    "print(result)"
   ]
  },
  {
   "cell_type": "code",
   "execution_count": 17,
   "id": "bd3dd033",
   "metadata": {},
   "outputs": [
    {
     "name": "stdout",
     "output_type": "stream",
     "text": [
      "[[-2, 2], [2, -2]]\n"
     ]
    }
   ],
   "source": [
    "#more optimized way(using heap)\n",
    "#T.C :O(n log k)\n",
    "import heapq\n",
    "def kclosest(points,k):\n",
    "    heap=[]\n",
    "    for (x,y) in points:\n",
    "        dist=-(x*x+y*y)\n",
    "        heapq.heappush(heap,(dist,[x,y]))#ex:(-10,[1,3],-8(-2,2).-2(2,-2))\n",
    "        #maintain heap size k\n",
    "        if len(heap)>k:\n",
    "            heapq.heappop(heap)\n",
    "    #extract points from heap\n",
    "    return [p for (_, p) in heap]\n",
    "#driver code\n",
    "points=[[1,3],[-2,2,],[2,-2]]\n",
    "k=2\n",
    "result=kclosest(points,k)\n",
    "print(result)"
   ]
  },
  {
   "cell_type": "markdown",
   "id": "2286d2ed",
   "metadata": {},
   "source": [
    "3)Given an array of strings words and an integer k,return the k most frequent words\n",
    "words=['priya','bhatia','akshay','arpit','priya','arpit']\n",
    "ex:k=2\n",
    "   output should be in lexicographical order"
   ]
  },
  {
   "cell_type": "code",
   "execution_count": 20,
   "id": "8a065240",
   "metadata": {},
   "outputs": [
    {
     "name": "stdout",
     "output_type": "stream",
     "text": [
      "['arpit']\n"
     ]
    }
   ],
   "source": [
    "#Brute-Force\n",
    "#T.C:O(n=mlog m) m-unique words which are sorted\n",
    "from collections import Counter\n",
    "def kmostfreq(words,k):\n",
    "    freq=Counter(words)\n",
    "    sorted_words=sorted(freq.keys(),key=lambda w:(-freq[w],w))\n",
    "    return sorted_words[:k]\n",
    "\n",
    "\n",
    "#driver code\n",
    "words=['priya','bhatia','akshay','arpit','priya','arpit']\n",
    "k=1\n",
    "result=kmostfreq(words,k)\n",
    "print(result)"
   ]
  },
  {
   "cell_type": "code",
   "execution_count": 27,
   "id": "d362ce71",
   "metadata": {},
   "outputs": [
    {
     "name": "stdout",
     "output_type": "stream",
     "text": [
      "['arpit', 'priya', 'akshay', 'bhatia']\n"
     ]
    }
   ],
   "source": [
    "#optimized approach using heap(minheap)\n",
    "#T.C:O(n+m logk)\n",
    "from collections import Counter\n",
    "def kmostfreq(words,k):\n",
    "    freq=Counter(words)\n",
    "    heap=[]\n",
    "    for word,f in freq.items():\n",
    "        heapq.heappush(heap,(-f,word))\n",
    "    return [heapq.heappop(heap)[1]for _ in range(k)]\n",
    "\n",
    "#driver code\n",
    "words=['priya','bhatia','akshay','arpit','priya','arpit']\n",
    "k=4\n",
    "result=kmostfreq(words,k)\n",
    "print(result)"
   ]
  },
  {
   "cell_type": "code",
   "execution_count": null,
   "id": "eedce922",
   "metadata": {},
   "outputs": [],
   "source": []
  }
 ],
 "metadata": {
  "kernelspec": {
   "display_name": "Python 3 (ipykernel)",
   "language": "python",
   "name": "python3"
  },
  "language_info": {
   "codemirror_mode": {
    "name": "ipython",
    "version": 3
   },
   "file_extension": ".py",
   "mimetype": "text/x-python",
   "name": "python",
   "nbconvert_exporter": "python",
   "pygments_lexer": "ipython3",
   "version": "3.11.5"
  }
 },
 "nbformat": 4,
 "nbformat_minor": 5
}
