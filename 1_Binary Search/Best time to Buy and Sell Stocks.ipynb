{
 "cells": [
  {
   "cell_type": "code",
   "execution_count": 12,
   "id": "a21642ef",
   "metadata": {},
   "outputs": [
    {
     "name": "stdout",
     "output_type": "stream",
     "text": [
      "enter number of elements in array6\n",
      "enter element 1 --  7\n",
      "enter element 2 --  1\n",
      "enter element 3 --  5\n",
      "enter element 4 --  3\n",
      "enter element 5 --  6\n",
      "enter element 6 --  4\n",
      "5\n"
     ]
    }
   ],
   "source": [
    "#function definition\n",
    "#T.C:O(n)\n",
    "def buyandsell(prices):\n",
    "    maxprofit=0\n",
    "    minprice=float(\"inf\")\n",
    "    for i in range(len(prices)):\n",
    "        if prices[i]<minprice:\n",
    "            minprice=prices[i]\n",
    "        elif prices[i]-minprice>maxprofit:\n",
    "            maxprofit=prices[i]-minprice\n",
    "    return maxprofit\n",
    "\n",
    "#driver code\n",
    "if __name__==\"__main__\":\n",
    "    prices=[]\n",
    "    n=int(input(\"enter number of elements in array\"))\n",
    "    for i in range(n):\n",
    "        ele=int(input(f\"enter element {i+1} --  \"))\n",
    "        prices.append(ele)\n",
    "    maxProfit=buyandsell(prices)\n",
    "    print(maxProfit)\n",
    "        "
   ]
  },
  {
   "cell_type": "code",
   "execution_count": null,
   "id": "a48216fd",
   "metadata": {},
   "outputs": [],
   "source": []
  }
 ],
 "metadata": {
  "kernelspec": {
   "display_name": "Python 3 (ipykernel)",
   "language": "python",
   "name": "python3"
  },
  "language_info": {
   "codemirror_mode": {
    "name": "ipython",
    "version": 3
   },
   "file_extension": ".py",
   "mimetype": "text/x-python",
   "name": "python",
   "nbconvert_exporter": "python",
   "pygments_lexer": "ipython3",
   "version": "3.11.5"
  }
 },
 "nbformat": 4,
 "nbformat_minor": 5
}
