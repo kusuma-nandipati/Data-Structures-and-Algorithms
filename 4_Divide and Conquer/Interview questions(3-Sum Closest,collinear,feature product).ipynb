{
 "cells": [
  {
   "cell_type": "markdown",
   "id": "f7ba6dba",
   "metadata": {},
   "source": [
    "# 1)3-Sum Closest"
   ]
  },
  {
   "cell_type": "markdown",
   "id": "e42ffaf8",
   "metadata": {},
   "source": [
    "ex:arr=[-1,2,1,-4]\n",
    "    target=1\n",
    "    output=2\n",
    "    explanation=-1+2+1=2\n",
    "    "
   ]
  },
  {
   "cell_type": "code",
   "execution_count": 31,
   "id": "764dfad4",
   "metadata": {},
   "outputs": [
    {
     "name": "stdout",
     "output_type": "stream",
     "text": [
      "4\n"
     ]
    }
   ],
   "source": [
    "#function definition\n",
    "#T.C:O(n^2)\n",
    "def three_sum_closest(arr,target):\n",
    "    arr.sort()\n",
    "    n=len(arr)\n",
    "    closest_sum=float('inf')\n",
    "    for i in range(n-2):\n",
    "        left,right=i+1,len(arr)-1\n",
    "        while left<right:\n",
    "            current_sum=arr[i]+arr[left]+arr[right]\n",
    "            if abs(current_sum-target)<abs(closest_sum-target):\n",
    "                closest_sum=current_sum\n",
    "            if current_sum<target:\n",
    "                left +=1\n",
    "            elif current_sum>target:\n",
    "                right -=1\n",
    "            else:\n",
    "                return target\n",
    "    return closest_sum\n",
    "                \n",
    "    \n",
    "    \n",
    "#driver code\n",
    "arr=[-1,2,3,-4]\n",
    "target=5\n",
    "result=three_sum_closest(arr,target)\n",
    "print(result)\n"
   ]
  },
  {
   "cell_type": "markdown",
   "id": "9c1744d6",
   "metadata": {},
   "source": [
    "# 2)Collinear or not"
   ]
  },
  {
   "cell_type": "markdown",
   "id": "ff4f6fcd",
   "metadata": {},
   "source": [
    "Given three points,check whether they lie on a straight line(collinear or not)"
   ]
  },
  {
   "cell_type": "code",
   "execution_count": 5,
   "id": "bd9de8fb",
   "metadata": {},
   "outputs": [
    {
     "name": "stdout",
     "output_type": "stream",
     "text": [
      "True\n"
     ]
    }
   ],
   "source": [
    "#function definition\n",
    "#T.C:O(n)\n",
    "#Approach-1\n",
    "def is_collinear(points):\n",
    "    x0,y0=points[0]\n",
    "    x1,y1=points[1]\n",
    "    for (x,y) in points[2:]:\n",
    "        if (y1-y0)*(x-x0) !=(y-y0)*(x-x0):\n",
    "            return False\n",
    "    return True\n",
    "            \n",
    "\n",
    "\n",
    "#driver code\n",
    "points=[[1,1],[1,4],[1,5]]\n",
    "result=is_collinear(points)\n",
    "print(result)"
   ]
  },
  {
   "cell_type": "code",
   "execution_count": 9,
   "id": "cb5a1bb2",
   "metadata": {},
   "outputs": [
    {
     "name": "stdout",
     "output_type": "stream",
     "text": [
      "False\n"
     ]
    }
   ],
   "source": [
    "#function definition\n",
    "#T.C:O(1)\n",
    "#Approach-2\n",
    "def is_collinear(points):\n",
    "    x1,y1=points[0]\n",
    "    x2,y2=points[1]\n",
    "    x3,y3=points[2]\n",
    "    area=0.5*(x1*(y2-y3)+x2*(y3-y1)+x3*(y1-y2))\n",
    "    if area:\n",
    "        return False\n",
    "    return True\n",
    "            \n",
    "\n",
    "\n",
    "#driver code\n",
    "points=[[1,1],[1,6],[0,9]]\n",
    "result=is_collinear(points)\n",
    "print(result)"
   ]
  },
  {
   "cell_type": "markdown",
   "id": "b3a5f3ac",
   "metadata": {},
   "source": [
    "# 3) Feature product\n"
   ]
  },
  {
   "cell_type": "markdown",
   "id": "c177f98b",
   "metadata": {},
   "source": [
    "An e-commerce site tracks the purchases made each day.The product is purchased the most day is the featured product for the following day.if there is a tie for the product purchased most frequently.those product names are ordered alphabetically ascending and the last name in the list is chosen"
   ]
  },
  {
   "cell_type": "code",
   "execution_count": 16,
   "id": "38ff544c",
   "metadata": {},
   "outputs": [
    {
     "name": "stdout",
     "output_type": "stream",
     "text": [
      "{'blackshirt': 2, 'bluepants': 1, 'greenpants': 3, 'pinkhat': 1, 'redhat': 2, 'yellowshirt': 2}\n",
      "greenpants\n"
     ]
    }
   ],
   "source": [
    "#T.c:O(n)#n is no.of items in input list\n",
    "from collections import Counter\n",
    "def feature_product(products):\n",
    "    products.sort()\n",
    "    products_count=dict(Counter(products))\n",
    "    print(products_count)\n",
    "    max_item=0\n",
    "    rqd_products=[]\n",
    "    for i in products_count:\n",
    "        if max_item<products_count[i]:\n",
    "            max_item=products_count[i]\n",
    "    for key,value in products_count.items():\n",
    "        if max_item==value:\n",
    "            rqd_products.append(key)\n",
    "    return rqd_products[-1]\n",
    "\n",
    "    \n",
    "    \n",
    "    \n",
    "#driver code\n",
    "products=['yellowshirt','redhat','blackshirt','bluepants','redhat','pinkhat','blackshirt','yellowshirt','greenpants','greenpants','greenpants']\n",
    "result=feature_product(products)\n",
    "print(result)"
   ]
  },
  {
   "cell_type": "code",
   "execution_count": 25,
   "id": "03096a00",
   "metadata": {},
   "outputs": [
    {
     "name": "stdout",
     "output_type": "stream",
     "text": [
      "['greenpants']\n"
     ]
    }
   ],
   "source": [
    "#Approach-2:using heapq\n",
    "#function definition\n",
    "#O(n log n)\n",
    "import heapq\n",
    "from collections import Counter\n",
    "def feature_product(products):\n",
    "\n",
    "    freq=Counter(products)\n",
    "    heap=[]\n",
    "    for word,f in freq.items():\n",
    "        heapq.heappush(heap,(-f,word))\n",
    "    return [heapq.heappop(heap)[1]for _ in range(1)]\n",
    "\n",
    "#driver code\n",
    "products=['yellowshirt','redhat','blackshirt','bluepants','redhat','pinkhat','blackshirt','yellowshirt','greenpants','greenpants','greenpants']\n",
    "result=feature_product(products)\n",
    "print(result)"
   ]
  },
  {
   "cell_type": "code",
   "execution_count": null,
   "id": "bc778860",
   "metadata": {},
   "outputs": [],
   "source": []
  }
 ],
 "metadata": {
  "kernelspec": {
   "display_name": "Python 3 (ipykernel)",
   "language": "python",
   "name": "python3"
  },
  "language_info": {
   "codemirror_mode": {
    "name": "ipython",
    "version": 3
   },
   "file_extension": ".py",
   "mimetype": "text/x-python",
   "name": "python",
   "nbconvert_exporter": "python",
   "pygments_lexer": "ipython3",
   "version": "3.11.5"
  }
 },
 "nbformat": 4,
 "nbformat_minor": 5
}
