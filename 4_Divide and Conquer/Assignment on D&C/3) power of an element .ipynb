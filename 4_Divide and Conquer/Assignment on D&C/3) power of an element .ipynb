{
 "cells": [
  {
   "cell_type": "code",
   "execution_count": 1,
   "id": "5fd38d34",
   "metadata": {},
   "outputs": [
    {
     "name": "stdout",
     "output_type": "stream",
     "text": [
      "0.25\n"
     ]
    }
   ],
   "source": [
    "#T.C:O(log n)\n",
    "#function definition\n",
    "def findpowofele(a,n):\n",
    "    if n<0:\n",
    "        return 1/findpowofele(a,-n)\n",
    "    if n==1:\n",
    "        return a\n",
    "    elif n==0:\n",
    "        return 1\n",
    "    else:\n",
    "        mid=n//2\n",
    "        b=findpowofele(a,mid)\n",
    "        result=b*b\n",
    "        if n%2==0:\n",
    "            return result\n",
    "        else:\n",
    "            return result*a\n",
    "a=2\n",
    "n=-2\n",
    "result=findpowofele(a,n)\n",
    "print(result)"
   ]
  },
  {
   "cell_type": "code",
   "execution_count": null,
   "id": "a2b81f6a",
   "metadata": {},
   "outputs": [],
   "source": []
  }
 ],
 "metadata": {
  "kernelspec": {
   "display_name": "Python 3 (ipykernel)",
   "language": "python",
   "name": "python3"
  },
  "language_info": {
   "codemirror_mode": {
    "name": "ipython",
    "version": 3
   },
   "file_extension": ".py",
   "mimetype": "text/x-python",
   "name": "python",
   "nbconvert_exporter": "python",
   "pygments_lexer": "ipython3",
   "version": "3.11.5"
  }
 },
 "nbformat": 4,
 "nbformat_minor": 5
}
