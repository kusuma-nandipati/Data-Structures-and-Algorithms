{
 "cells": [
  {
   "cell_type": "code",
   "execution_count": 4,
   "id": "4dbaddd6",
   "metadata": {},
   "outputs": [
    {
     "name": "stdout",
     "output_type": "stream",
     "text": [
      "[[10, 10, 10, 10], [20, 20, 20, 20], [30, 30, 30, 30], [40, 40, 40, 40]]\n"
     ]
    }
   ],
   "source": [
    "#Brute force\n",
    "#T.C:O(n ^3)\n",
    "#method definition\n",
    "def brute_force_matrixmul(A,B):\n",
    "    n=len(A)\n",
    "    C=[[0]*n for _ in range(n)]\n",
    "    for i in range(n):\n",
    "        for j in range(n):\n",
    "            for k in range(0,n):\n",
    "                C[i][j] +=A[i][k]*B[k][j]\n",
    "    return C\n",
    "\n",
    "#driver code\n",
    "A=[[1,1,1,1],[2,2,2,2],[3,3,3,3],[4,4,4,4]]\n",
    "B=[[1,1,1,1],[2,2,2,2],[3,3,3,3],[4,4,4,4]]\n",
    "print(brute_force_matrixmul(A,B))"
   ]
  },
  {
   "cell_type": "code",
   "execution_count": 15,
   "id": "a1823e25",
   "metadata": {},
   "outputs": [
    {
     "name": "stdout",
     "output_type": "stream",
     "text": [
      "[[10, 10, 10, 10], [20, 20, 20, 20], [30, 30, 30, 30], [40, 40, 40, 40]]\n"
     ]
    }
   ],
   "source": [
    "#Divide and Conquer Approach\n",
    "#uses 8 recursive calls\n",
    "#T.C:O(n^3)\n",
    "#method definition for split matrix\n",
    "\n",
    "def split_matrix(M):\n",
    "    mid=len(M)//2\n",
    "    M11 = [row[:mid] for row in M[:mid]]\n",
    "    M12 = [row[mid:] for row in M[:mid]]\n",
    "    M21 = [row[:mid] for row in M[mid:]]\n",
    "    M22 = [row[mid:] for row in M[mid:]]\n",
    "    return M11, M12, M21, M22\n",
    "#method definiton for add matrix\n",
    "\n",
    "def add_matrix(A, B):\n",
    "    n = len(A)\n",
    "    return [[A[i][j] + B[i][j] for j in range(n)] for i in range(n)]\n",
    "        \n",
    "#combining all results\n",
    "def combine_quadrants(C11, C12, C21, C22):\n",
    "    top = [C11[i] + C12[i] for i in range(len(C11))]\n",
    "    bottom = [C21[i] + C22[i] for i in range(len(C21))]\n",
    "    return top + bottom\n",
    "\n",
    "\n",
    "def matrix_mul_dc(A,B):\n",
    "    n=len(A)\n",
    "    if n==1:\n",
    "        return [[A[0][0]*B[0][0]]]\n",
    "    a,b,c,d=split_matrix(A)\n",
    "    e,f,g,h=split_matrix(B)\n",
    "    #recursive calls\n",
    "    c11=add_matrix(matrix_mul_dc(a,e),matrix_mul_dc(b,g))\n",
    "    c12=add_matrix(matrix_mul_dc(a,f),matrix_mul_dc(b,h))\n",
    "    c21=add_matrix(matrix_mul_dc(c,e),matrix_mul_dc(d,g))\n",
    "    c22=add_matrix(matrix_mul_dc(c,f),matrix_mul_dc(d,h))\n",
    "    #combine results\n",
    "    return combine_quadrants(c11,c12,c21,c22)\n",
    "    \n",
    "    \n",
    "    \n",
    "#driver code\n",
    "A=[[1,1,1,1],[2,2,2,2],[3,3,3,3],[4,4,4,4]]\n",
    "B=[[1,1,1,1],[2,2,2,2],[3,3,3,3],[4,4,4,4]]\n",
    "print(matrix_mul_dc(A,B))"
   ]
  },
  {
   "cell_type": "code",
   "execution_count": 22,
   "id": "939bbf25",
   "metadata": {},
   "outputs": [
    {
     "name": "stdout",
     "output_type": "stream",
     "text": [
      "Strassen’s Multiplication Result:\n",
      "[[10 10 10 10]\n",
      " [20 20 20 20]\n",
      " [30 30 30 30]\n",
      " [40 40 40 40]]\n"
     ]
    }
   ],
   "source": [
    "#Strassens Multiplication\n",
    "#T.C:O(n^2.81)\n",
    "#instead of 8-recursive calls in d&c,strassens use 7 product recursive call\n",
    "import numpy as np\n",
    "\n",
    "def split(matrix):\n",
    "    \"\"\"Split matrix into 4 quadrants\"\"\"\n",
    "    row, col = matrix.shape\n",
    "    row2, col2 = row // 2, col // 2\n",
    "    return matrix[:row2, :col2], matrix[:row2, col2:], matrix[row2:, :col2], matrix[row2:, col2:]\n",
    "\n",
    "def strassens(A, B):\n",
    "    n = A.shape[0]\n",
    "\n",
    "    # Base case: 1x1 matrix\n",
    "    if n == 1:\n",
    "        return A * B\n",
    "\n",
    "    # Split matrices\n",
    "    a, b, c, d = split(A)\n",
    "    e, f, g, h = split(B)\n",
    "\n",
    "    # 7 products (Strassen’s trick)\n",
    "    p1 = strassens(a, f - h)\n",
    "    p2 = strassens(a + b, h)\n",
    "    p3 = strassens(c + d, e)\n",
    "    p4 = strassens(d, g - e)\n",
    "    p5 = strassens(a + d, e + h)\n",
    "    p6 = strassens(b - d, g + h)\n",
    "    p7 = strassens(a - c, e + f)\n",
    "\n",
    "    # Quadrants of result\n",
    "    c11 = p5 + p4 - p2 + p6\n",
    "    c12 = p1 + p2\n",
    "    c21 = p3 + p4\n",
    "    c22 = p1 + p5 - p3 - p7\n",
    "\n",
    "    # Combine quadrants\n",
    "    top = np.hstack((c11, c12))\n",
    "    bottom = np.hstack((c21, c22))\n",
    "    c = np.vstack((top, bottom))\n",
    "\n",
    "    return c\n",
    "\n",
    "\n",
    "# Driver code\n",
    "A = np.array([[1, 1, 1, 1],\n",
    "              [2, 2, 2, 2],\n",
    "              [3, 3, 3, 3],\n",
    "              [4, 4, 4, 4]])\n",
    "\n",
    "B = np.array([[1, 1, 1, 1],\n",
    "              [2, 2, 2, 2],\n",
    "              [3, 3, 3, 3],\n",
    "              [4, 4, 4, 4]])\n",
    "\n",
    "print(\"Strassen’s Multiplication Result:\")\n",
    "print(strassens(A, B))\n"
   ]
  },
  {
   "cell_type": "code",
   "execution_count": null,
   "id": "f22750c2",
   "metadata": {},
   "outputs": [],
   "source": []
  }
 ],
 "metadata": {
  "kernelspec": {
   "display_name": "Python 3 (ipykernel)",
   "language": "python",
   "name": "python3"
  },
  "language_info": {
   "codemirror_mode": {
    "name": "ipython",
    "version": 3
   },
   "file_extension": ".py",
   "mimetype": "text/x-python",
   "name": "python",
   "nbconvert_exporter": "python",
   "pygments_lexer": "ipython3",
   "version": "3.11.5"
  }
 },
 "nbformat": 4,
 "nbformat_minor": 5
}
