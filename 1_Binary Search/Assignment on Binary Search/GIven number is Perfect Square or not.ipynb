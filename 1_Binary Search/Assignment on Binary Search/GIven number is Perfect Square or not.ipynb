{
 "cells": [
  {
   "cell_type": "code",
   "execution_count": 26,
   "id": "054caae7",
   "metadata": {},
   "outputs": [
    {
     "name": "stdout",
     "output_type": "stream",
     "text": [
      "enter number99\n",
      "False\n"
     ]
    }
   ],
   "source": [
    "#function definition\n",
    "#Brute Force\n",
    "#T.C:O(n**0.5) with O(1)space complexity\n",
    "def is_perfect(num):\n",
    "    if num<2:\n",
    "        return num\n",
    "    else:\n",
    "        i=1\n",
    "        while i * i<=num:\n",
    "            if i * i==num:\n",
    "                return True\n",
    "            i+=1\n",
    "        return False\n",
    "        \n",
    "\n",
    "#driver code\n",
    "if __name__==\"__main__\":\n",
    "    num=int(input(\"enter number\"))\n",
    "    result=is_perfect(num)\n",
    "    print(result)"
   ]
  },
  {
   "cell_type": "code",
   "execution_count": 28,
   "id": "52778068",
   "metadata": {},
   "outputs": [
    {
     "name": "stdout",
     "output_type": "stream",
     "text": [
      "enter number10000\n",
      "True\n"
     ]
    }
   ],
   "source": [
    "#Optimized approach using binary search\n",
    "#T.C:O(log n)with constant space time complexity\n",
    "def is_perfect(num):\n",
    "    if num<2:\n",
    "        return num\n",
    "    else:\n",
    "        left,right=2,num//2\n",
    "        while left<=right:\n",
    "            mid=left+(right-left)//2\n",
    "            square=mid*mid\n",
    "            if square==num:\n",
    "                return True\n",
    "            elif square<num:\n",
    "                left=mid+1\n",
    "            else:\n",
    "                right=mid-1\n",
    "        return False\n",
    "#driver code\n",
    "num=int(input(\"enter number\"))\n",
    "result=is_perfect(num)\n",
    "print(result)"
   ]
  },
  {
   "cell_type": "code",
   "execution_count": null,
   "id": "dc7bbb3b",
   "metadata": {},
   "outputs": [],
   "source": []
  }
 ],
 "metadata": {
  "kernelspec": {
   "display_name": "Python 3 (ipykernel)",
   "language": "python",
   "name": "python3"
  },
  "language_info": {
   "codemirror_mode": {
    "name": "ipython",
    "version": 3
   },
   "file_extension": ".py",
   "mimetype": "text/x-python",
   "name": "python",
   "nbconvert_exporter": "python",
   "pygments_lexer": "ipython3",
   "version": "3.11.5"
  }
 },
 "nbformat": 4,
 "nbformat_minor": 5
}
