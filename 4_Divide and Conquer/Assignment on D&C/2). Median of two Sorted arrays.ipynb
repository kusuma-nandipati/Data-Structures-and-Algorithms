{
 "cells": [
  {
   "cell_type": "code",
   "execution_count": 4,
   "id": "29c50223",
   "metadata": {},
   "outputs": [
    {
     "name": "stdout",
     "output_type": "stream",
     "text": [
      "3\n"
     ]
    }
   ],
   "source": [
    "#method definition\n",
    "#T.C:O(m+n log (m+n))\n",
    "def median_two_arrays(nums1,nums2):\n",
    "    merged=sorted(nums1+nums2)\n",
    "    n=len(merged)\n",
    "    mid=n//2\n",
    "    if n%2==0:\n",
    "        print((merged[mid]+merged[mid-1])//2)\n",
    "    else:\n",
    "        print(merged[mid])\n",
    "\n",
    "#driver code\n",
    "nums1=[1,2]\n",
    "nums2=[4,3,5]\n",
    "median_two_arrays(nums1,nums2)"
   ]
  },
  {
   "cell_type": "code",
   "execution_count": 16,
   "id": "027d0fc6",
   "metadata": {},
   "outputs": [
    {
     "name": "stdout",
     "output_type": "stream",
     "text": [
      "2\n"
     ]
    }
   ],
   "source": [
    "#optimized approach using modified binary search\n",
    "#T.C:O(log(min(m,n)))\n",
    "#method definition\n",
    "import sys\n",
    "def findmedian(nums1,nums2):\n",
    "    if len(nums1)>len(nums2):\n",
    "        nums1,nums2=nums2,nums1\n",
    "    m=len(nums1)\n",
    "    n=len(nums2)\n",
    "    start=0\n",
    "    end=m\n",
    "    while start<=end:\n",
    "        #making cuts \n",
    "        partition_nums1=(start+end)//2\n",
    "        partition_nums2=(m+n+1)//2-partition_nums1\n",
    "        #this forms like\n",
    "        '''nums1=[|2]  maxleftnums1=-infi,minrightnums1=2\n",
    "           nums2=[1,3|] maxleftnums2=3 ,minrightnums2= infin '''\n",
    "        maxleft_nums1=-sys.maxsize if partition_nums1==0 else nums1[partition_nums1-1]\n",
    "        minright_nums1=sys.maxsize if partition_nums1==m else nums1[partition_nums1]\n",
    "        maxleft_nums2=-sys.maxsize if partition_nums2==0 else nums2[partition_nums2-1]\n",
    "        minright_nums2=sys.maxsize if partition_nums2==n else nums2[partition_nums2]\n",
    "        #compare and return median\n",
    "        if maxleft_nums1<=minright_nums2 and maxleft_nums2<=minright_nums1:\n",
    "            if (m+n)%2==0:\n",
    "                return (max(maxleft_nums1,maxleft_nums2)+min(minright_nums1,minright_nums2))/2\n",
    "            else:\n",
    "                return max(maxleft_nums1,maxleft_nums2)\n",
    "        #improve end pointer to left once\n",
    "        elif maxleft_nums1>minright_nums2:\n",
    "            end=partition_nums1-1\n",
    "        #improve start pointer to right\n",
    "        else:\n",
    "            start=partition_nums1+1\n",
    "    \n",
    "    \n",
    "#driver code\n",
    "nums1=[1,3]\n",
    "nums2=[2]\n",
    "print(findmedian(nums1,nums2))"
   ]
  },
  {
   "cell_type": "code",
   "execution_count": null,
   "id": "c0c75505",
   "metadata": {},
   "outputs": [],
   "source": []
  }
 ],
 "metadata": {
  "kernelspec": {
   "display_name": "Python 3 (ipykernel)",
   "language": "python",
   "name": "python3"
  },
  "language_info": {
   "codemirror_mode": {
    "name": "ipython",
    "version": 3
   },
   "file_extension": ".py",
   "mimetype": "text/x-python",
   "name": "python",
   "nbconvert_exporter": "python",
   "pygments_lexer": "ipython3",
   "version": "3.11.5"
  }
 },
 "nbformat": 4,
 "nbformat_minor": 5
}
