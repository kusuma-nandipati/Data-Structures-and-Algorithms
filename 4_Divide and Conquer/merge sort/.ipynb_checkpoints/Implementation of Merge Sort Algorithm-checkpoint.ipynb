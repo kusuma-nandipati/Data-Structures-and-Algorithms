{
 "cells": [
  {
   "cell_type": "code",
   "execution_count": 3,
   "id": "57e92dfd",
   "metadata": {},
   "outputs": [
    {
     "name": "stdout",
     "output_type": "stream",
     "text": [
      "[6, 12, 34, 45, 50, 99]\n"
     ]
    }
   ],
   "source": [
    "#T.C:O(n log n)\n",
    "#Recurrence Relation:T(n)=2T(N/2)+N\n",
    "#Divide and Conquer Approach\n",
    "#n1+n2=N\n",
    "def mergesort(arr,i,j):\n",
    "    if i<j:\n",
    "        #Dividing part\n",
    "        mid=i+(j-i)//2\n",
    "        #recursive call->Left Subtree\n",
    "        mergesort(arr,i,mid)\n",
    "        #recursive call->rigth Subtree\n",
    "        mergesort(arr,mid+1,j)\n",
    "        #Combining part\n",
    "        mergeProcedure(arr,i,mid,j)\n",
    "    return arr\n",
    "def mergeProcedure(arr,i,mid,j):\n",
    "    #no.of elements in left sub array\n",
    "    n1=mid-i+1\n",
    "    #no.of elements in right sub array\n",
    "    n2=j-mid\n",
    "    #initialization of left and right subarray\n",
    "    leftSubarray=[0]*n1\n",
    "    rightSubarray=[0]*n2\n",
    "    #copying the elements to left and right subarrays to apply merge procedure\n",
    "    for m in range(n1):\n",
    "        leftSubarray[m]=arr[i+m]\n",
    "    for n in range(n2):\n",
    "        rightSubarray[n]=arr[mid+1+n]\n",
    "    p=0\n",
    "    q=0\n",
    "    k=i\n",
    "    #Comparing left and right Subarrays\n",
    "    while p<n1 and q<n2:\n",
    "        if leftSubarray[p]<rightSubarray[q]:\n",
    "            arr[k]=leftSubarray[p]\n",
    "            p +=1\n",
    "        else:\n",
    "            arr[k]=rightSubarray[q]\n",
    "            q +=1\n",
    "        k +=1\n",
    "    while p<n1:\n",
    "        #if right subarray is over,copy all the elements from left subarray to original k array\n",
    "        arr[k]=leftSubarray[p]\n",
    "        p +=1\n",
    "        k +=1\n",
    "    while q<n2:\n",
    "        #if left subarray is over,copy all the elements from right subarray to original k array\n",
    "        arr[k]=rightSubarray[q]\n",
    "        q +=1\n",
    "        k +=1\n",
    "            \n",
    "    \n",
    "    \n",
    "    \n",
    "#driver code\n",
    "arr=[50,6,45,34,99,12]\n",
    "i=0\n",
    "j=len(arr)-1\n",
    "result=mergesort(arr,i,j)\n",
    "print(result)"
   ]
  },
  {
   "cell_type": "code",
   "execution_count": null,
   "id": "d97d9d32",
   "metadata": {},
   "outputs": [],
   "source": []
  }
 ],
 "metadata": {
  "kernelspec": {
   "display_name": "Python 3 (ipykernel)",
   "language": "python",
   "name": "python3"
  },
  "language_info": {
   "codemirror_mode": {
    "name": "ipython",
    "version": 3
   },
   "file_extension": ".py",
   "mimetype": "text/x-python",
   "name": "python",
   "nbconvert_exporter": "python",
   "pygments_lexer": "ipython3",
   "version": "3.11.5"
  }
 },
 "nbformat": 4,
 "nbformat_minor": 5
}
