{
 "cells": [
  {
   "cell_type": "code",
   "execution_count": 2,
   "id": "d3c5c2c1",
   "metadata": {},
   "outputs": [
    {
     "name": "stdout",
     "output_type": "stream",
     "text": [
      "3\n"
     ]
    }
   ],
   "source": [
    "#Brute Force by Linear Search\n",
    "#T.C:O(n)\n",
    "#function definition\n",
    "def FirstBadVersion(versions):\n",
    "    for i in range(len(versions)):\n",
    "        if versions[i]==1:\n",
    "            return i\n",
    "    return -1\n",
    "\n",
    "#driver code\n",
    "versions=[0,0,0,1,1,1,1,1]\n",
    "result=FirstBadVersion(versions)\n",
    "print(result)"
   ]
  },
  {
   "cell_type": "code",
   "execution_count": 3,
   "id": "c51716e5",
   "metadata": {},
   "outputs": [
    {
     "name": "stdout",
     "output_type": "stream",
     "text": [
      "3\n"
     ]
    }
   ],
   "source": [
    "#Optimized approach using Binary Search\n",
    "#T.C:O(logn)\n",
    "#function definition\n",
    "def FirstBadVersion(versions):\n",
    "    left,right=0,len(versions)-1\n",
    "    first_bad=-1\n",
    "    while left<=right:\n",
    "        mid=left+(right-left)//2\n",
    "        if versions[mid]==1:\n",
    "            first_bad= mid\n",
    "            right -=mid\n",
    "        left +=mid\n",
    "    return first_bad\n",
    "        \n",
    "\n",
    "\n",
    "#driver code\n",
    "if __name__==\"__main__\":\n",
    "    versions=[0,0,0,1,1,1,1,1]\n",
    "    result=FirstBadVersion(versions)\n",
    "    print(result)"
   ]
  },
  {
   "cell_type": "code",
   "execution_count": null,
   "id": "c8a6662a",
   "metadata": {},
   "outputs": [],
   "source": []
  }
 ],
 "metadata": {
  "kernelspec": {
   "display_name": "Python 3 (ipykernel)",
   "language": "python",
   "name": "python3"
  },
  "language_info": {
   "codemirror_mode": {
    "name": "ipython",
    "version": 3
   },
   "file_extension": ".py",
   "mimetype": "text/x-python",
   "name": "python",
   "nbconvert_exporter": "python",
   "pygments_lexer": "ipython3",
   "version": "3.11.5"
  }
 },
 "nbformat": 4,
 "nbformat_minor": 5
}
