{
 "cells": [
  {
   "cell_type": "code",
   "execution_count": 6,
   "id": "86d5a465",
   "metadata": {},
   "outputs": [
    {
     "name": "stdout",
     "output_type": "stream",
     "text": [
      "enter elements20 40 60 40\n",
      "enter target value80\n",
      "(1, 3)\n"
     ]
    }
   ],
   "source": [
    "#function definition\n",
    "#find two numbers that sums up to \n",
    "#T.C:O(n)\n",
    "def TwoSum(arr,target):\n",
    "    left,right=0,len(arr)-1\n",
    "    while left<right:\n",
    "        if arr[left]+arr[right]==target:\n",
    "            return left,right\n",
    "        elif arr[left]+arr[right]>target:\n",
    "            right -=1\n",
    "        else:\n",
    "            left +=1\n",
    "    return -1,-1\n",
    "\n",
    "\n",
    "#driver code\n",
    "if __name__==\"__main__\":\n",
    "    arr=list(map(int,input(\"enter elements\").split()))\n",
    "    target=int(input(\"enter target value\"))\n",
    "    result=TwoSum(arr,target)\n",
    "    print(result)"
   ]
  },
  {
   "cell_type": "code",
   "execution_count": 9,
   "id": "4a3eebc3",
   "metadata": {},
   "outputs": [
    {
     "name": "stdout",
     "output_type": "stream",
     "text": [
      "enter elements20 40 40 60 100\n",
      "enter target value80\n",
      "[(0, 3), (1, 2)]\n"
     ]
    }
   ],
   "source": [
    "#find pairs of Two numbers that sums up to target\n",
    "#function definition\n",
    "#find two numbers that sums up to \n",
    "#T.C:O(n)\n",
    "def TwoSum(arr,target):\n",
    "    pairs=[]\n",
    "    left,right=0,len(arr)-1\n",
    "    while left<right:\n",
    "        if arr[left]+arr[right]==target:\n",
    "            pairs.append((left,right))\n",
    "            left +=1\n",
    "            right -=1\n",
    "        elif arr[left]+arr[right]>target:\n",
    "            right -=1\n",
    "        else:\n",
    "            left +=1\n",
    "    return pairs\n",
    "\n",
    "\n",
    "#driver code\n",
    "if __name__==\"__main__\":\n",
    "    arr=list(map(int,input(\"enter elements\").split()))\n",
    "    target=int(input(\"enter target value\"))\n",
    "    result=TwoSum(arr,target)\n",
    "    print(result)"
   ]
  },
  {
   "cell_type": "code",
   "execution_count": null,
   "id": "3fd42321",
   "metadata": {},
   "outputs": [],
   "source": []
  }
 ],
 "metadata": {
  "kernelspec": {
   "display_name": "Python 3 (ipykernel)",
   "language": "python",
   "name": "python3"
  },
  "language_info": {
   "codemirror_mode": {
    "name": "ipython",
    "version": 3
   },
   "file_extension": ".py",
   "mimetype": "text/x-python",
   "name": "python",
   "nbconvert_exporter": "python",
   "pygments_lexer": "ipython3",
   "version": "3.11.5"
  }
 },
 "nbformat": 4,
 "nbformat_minor": 5
}
