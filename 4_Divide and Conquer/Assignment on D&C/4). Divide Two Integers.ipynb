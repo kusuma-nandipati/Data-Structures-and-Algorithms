{
 "cells": [
  {
   "cell_type": "markdown",
   "id": "99f89322",
   "metadata": {},
   "source": [
    "# Divide Two Integers"
   ]
  },
  {
   "cell_type": "code",
   "execution_count": 5,
   "id": "60490452",
   "metadata": {},
   "outputs": [
    {
     "name": "stdout",
     "output_type": "stream",
     "text": [
      "5\n"
     ]
    }
   ],
   "source": [
    "#Brute force approach\n",
    "#T.c:O(n^2)\n",
    "#method definition\n",
    "def divideTwo(dividend,divisor):\n",
    "    count=0\n",
    "    while (dividend-divisor)>=0:\n",
    "        dividend -=divisor\n",
    "        count +=1\n",
    "    return count\n",
    "    \n",
    "    \n",
    "#driver code\n",
    "dividend=21\n",
    "divisor=4\n",
    "print(divideTwo(dividend,divisor))\n"
   ]
  },
  {
   "cell_type": "markdown",
   "id": "5d0cbacd",
   "metadata": {},
   "source": [
    "#Optimized Approach usinf Bit Manipulation\n",
    "#T.c:O(log n)\n",
    "Work with absolute values.\n",
    "\n",
    "Left-shift the divisor until it’s just smaller than the dividend.\n",
    "\n",
    "Subtract the largest shifted divisor, update the quotient, and repeat until the dividend is smaller than the divisor."
   ]
  },
  {
   "cell_type": "code",
   "execution_count": 10,
   "id": "adcad6c3",
   "metadata": {},
   "outputs": [
    {
     "name": "stdout",
     "output_type": "stream",
     "text": [
      "-2147843648\n"
     ]
    }
   ],
   "source": [
    "#T.c:O(log n)\n",
    "#method definition\n",
    "def divideTwo(dividend,divisor):\n",
    "    divid=abs(dividend)\n",
    "    divi=abs(divisor)\n",
    "    result=0\n",
    "    while divid>=divi:\n",
    "        shift=0\n",
    "        while divid>=(divi<<shift):\n",
    "            shift +=1\n",
    "        result +=(1<<(shift-1))\n",
    "        divid -=divi<<(shift-1)\n",
    "    if (dividend<0 and divisor>=0)or (divisor<0 and dividend>=0):\n",
    "        result =-result\n",
    "    return min(2147843647,max(-2147843648,result))\n",
    "    \n",
    "#driver code\n",
    "dividend=-2147843648\n",
    "divisor=1\n",
    "print(divideTwo(dividend,divisor))\n",
    "\n"
   ]
  },
  {
   "cell_type": "code",
   "execution_count": null,
   "id": "fb3cdd3e",
   "metadata": {},
   "outputs": [],
   "source": []
  }
 ],
 "metadata": {
  "kernelspec": {
   "display_name": "Python 3 (ipykernel)",
   "language": "python",
   "name": "python3"
  },
  "language_info": {
   "codemirror_mode": {
    "name": "ipython",
    "version": 3
   },
   "file_extension": ".py",
   "mimetype": "text/x-python",
   "name": "python",
   "nbconvert_exporter": "python",
   "pygments_lexer": "ipython3",
   "version": "3.11.5"
  }
 },
 "nbformat": 4,
 "nbformat_minor": 5
}
