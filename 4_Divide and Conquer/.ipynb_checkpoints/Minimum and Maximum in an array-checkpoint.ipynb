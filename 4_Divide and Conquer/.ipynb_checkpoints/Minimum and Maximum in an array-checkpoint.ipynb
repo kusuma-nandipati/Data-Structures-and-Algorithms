{
 "cells": [
  {
   "cell_type": "code",
   "execution_count": 4,
   "id": "44e23e69",
   "metadata": {},
   "outputs": [
    {
     "name": "stdout",
     "output_type": "stream",
     "text": [
      "(10, 50)\n"
     ]
    }
   ],
   "source": [
    "#function Definition\n",
    "#t.c:O(n)\n",
    "def findmaxandmin(arr,i,j):\n",
    "    if i==j:\n",
    "        min_ele=arr[i]\n",
    "        max_ele=arr[i]\n",
    "    elif i==j-1:\n",
    "        if arr[i]<arr[j]:\n",
    "            max_ele=arr[j]\n",
    "            min_ele=arr[i]\n",
    "        else:\n",
    "            max_ele=arr[i]\n",
    "            min_ele=arr[j]\n",
    "    else:\n",
    "        mid=i+(j-i)//2\n",
    "        min1,max1=findmaxandmin(arr,i,mid)\n",
    "        min2,max2=findmaxandmin(arr,mid+1,j)\n",
    "        if min1<min2:\n",
    "            min_ele=min1\n",
    "        else:\n",
    "            min_ele=min2\n",
    "        if max1>max2:\n",
    "            max_ele=max1\n",
    "        else:\n",
    "            max_ele=max2\n",
    "    return(min_ele,max_ele)\n",
    "\n",
    "#driver code\n",
    "arr=[10,20,30,40,50]\n",
    "i=0\n",
    "j=len(arr)-1\n",
    "result=findmaxandmin(arr,i,j)\n",
    "print(result)"
   ]
  },
  {
   "cell_type": "code",
   "execution_count": null,
   "id": "453cba5e",
   "metadata": {},
   "outputs": [],
   "source": []
  }
 ],
 "metadata": {
  "kernelspec": {
   "display_name": "Python 3 (ipykernel)",
   "language": "python",
   "name": "python3"
  },
  "language_info": {
   "codemirror_mode": {
    "name": "ipython",
    "version": 3
   },
   "file_extension": ".py",
   "mimetype": "text/x-python",
   "name": "python",
   "nbconvert_exporter": "python",
   "pygments_lexer": "ipython3",
   "version": "3.11.5"
  }
 },
 "nbformat": 4,
 "nbformat_minor": 5
}
