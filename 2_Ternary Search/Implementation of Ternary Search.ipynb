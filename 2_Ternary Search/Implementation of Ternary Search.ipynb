{
 "cells": [
  {
   "cell_type": "code",
   "execution_count": 3,
   "id": "2b2c0a36",
   "metadata": {},
   "outputs": [
    {
     "name": "stdout",
     "output_type": "stream",
     "text": [
      "enter elements--(with space)20 24 56\n",
      "enter key90\n",
      "-1\n"
     ]
    }
   ],
   "source": [
    "#Implementation of Ternary Search\n",
    "def TernarySearch(arr,key):\n",
    "    l,r=0,len(arr)-1\n",
    "    while l<=r:\n",
    "        mid1=l+(r-l)//3\n",
    "        mid2=r-(r-l)//3\n",
    "        if arr[mid1]==key:\n",
    "            return mid1\n",
    "        if arr[mid2]==key:\n",
    "            return mid2\n",
    "        if key<arr[mid1]:\n",
    "            r =mid1-1\n",
    "        elif key>arr[mid1]:\n",
    "            l =mid2+1\n",
    "        else:\n",
    "            l=mid1+1\n",
    "            r=mid2-1\n",
    "    return -1\n",
    "            \n",
    "    \n",
    "    \n",
    "    \n",
    "#driver code\n",
    "if __name__==\"__main__\":\n",
    "    arr=list(map(int,input(\"enter elements--(with space)\").split()))\n",
    "    key=int(input(\"enter key\"))\n",
    "    result=TernarySearch(arr,key)\n",
    "    print(result)"
   ]
  },
  {
   "cell_type": "code",
   "execution_count": null,
   "id": "4aecaf79",
   "metadata": {},
   "outputs": [],
   "source": []
  }
 ],
 "metadata": {
  "kernelspec": {
   "display_name": "Python 3 (ipykernel)",
   "language": "python",
   "name": "python3"
  },
  "language_info": {
   "codemirror_mode": {
    "name": "ipython",
    "version": 3
   },
   "file_extension": ".py",
   "mimetype": "text/x-python",
   "name": "python",
   "nbconvert_exporter": "python",
   "pygments_lexer": "ipython3",
   "version": "3.11.5"
  }
 },
 "nbformat": 4,
 "nbformat_minor": 5
}
