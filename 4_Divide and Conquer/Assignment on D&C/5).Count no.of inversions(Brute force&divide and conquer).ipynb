{
 "cells": [
  {
   "cell_type": "code",
   "execution_count": 2,
   "id": "d6cbc5d3",
   "metadata": {},
   "outputs": [
    {
     "name": "stdout",
     "output_type": "stream",
     "text": [
      "17\n"
     ]
    }
   ],
   "source": [
    "#Brute force\n",
    "#Time-Complexity-O(n^2)\n",
    "#methid definition\n",
    "def count_inversions(arr):\n",
    "    res=[]\n",
    "    n=len(arr)\n",
    "    for i in range(0,n):\n",
    "        j=i+1\n",
    "        for j in range(j,n):\n",
    "            if arr[j]<arr[i]:\n",
    "                res.append(j)\n",
    "    return len(res)\n",
    "                \n",
    "    \n",
    "    \n",
    "#driver code\n",
    "arr=[70,50,60,10,20,30,80,15]\n",
    "result=count_inversions(arr)\n",
    "print(result)"
   ]
  },
  {
   "cell_type": "code",
   "execution_count": 5,
   "id": "6a5f9113",
   "metadata": {},
   "outputs": [
    {
     "name": "stdout",
     "output_type": "stream",
     "text": [
      "17\n"
     ]
    }
   ],
   "source": [
    "#optimized approach using divide and conquer\n",
    "#T.C:O(n log n)\n",
    "#method definition for merge procedure\n",
    "def mergeProcedure(arr,i,mid,j):\n",
    "    L=arr[left:mid+1]\n",
    "    R=arr[mid+1:right+1]\n",
    "    i=j=0\n",
    "    k=i\n",
    "    inversions=0\n",
    "    while i<len(L) and j<len(R):\n",
    "        if L[i]<=R[j]:\n",
    "            arr[k]=L[i]\n",
    "            i +=1\n",
    "        else:\n",
    "            arr[k]=R[j]\n",
    "            j +=1\n",
    "            inversions +=(len(L)-i)\n",
    "        k +=1\n",
    "        #copy leftovers\n",
    "        while i<len(L):\n",
    "            arr[k]=arr[i]\n",
    "            i +=1\n",
    "            k +=1\n",
    "        while j<len(R):\n",
    "            arr[k]=arr[j]\n",
    "            j +=1\n",
    "            k +=1\n",
    "    return inversions\n",
    "#method definition for countinversion\n",
    "def countInversion(arr,i,j):\n",
    "    if i==j:\n",
    "        cnt=0\n",
    "        return nums[i]\n",
    "    else:#Divide and Conquer\n",
    "        #dividing \n",
    "        mid=i+(j-i)//2\n",
    "         #conquering\n",
    "        cnt1=countInversion(arr,i,mid)\n",
    "        cnt2=countInversion(arr,mid+1,j)\n",
    "        #combining\n",
    "        cnt_final=mergeProcedure(arr,i,mid,j)\n",
    "        return cnt_final+cnt1+cnt2\n",
    "        \n",
    "    \n",
    "    \n",
    "#driver code\n",
    "arr=[70,50,60,10,20,30,80,15]\n",
    "result=count_inversions(arr)\n",
    "print(result)"
   ]
  },
  {
   "cell_type": "code",
   "execution_count": null,
   "id": "84952068",
   "metadata": {},
   "outputs": [],
   "source": []
  }
 ],
 "metadata": {
  "kernelspec": {
   "display_name": "Python 3 (ipykernel)",
   "language": "python",
   "name": "python3"
  },
  "language_info": {
   "codemirror_mode": {
    "name": "ipython",
    "version": 3
   },
   "file_extension": ".py",
   "mimetype": "text/x-python",
   "name": "python",
   "nbconvert_exporter": "python",
   "pygments_lexer": "ipython3",
   "version": "3.11.5"
  }
 },
 "nbformat": 4,
 "nbformat_minor": 5
}
