{
 "cells": [
  {
   "cell_type": "raw",
   "id": "ca85d79d",
   "metadata": {},
   "source": []
  },
  {
   "cell_type": "code",
   "execution_count": 6,
   "id": "a1bef5a1",
   "metadata": {},
   "outputs": [
    {
     "name": "stdout",
     "output_type": "stream",
     "text": [
      "[9, 7, 6, 3, 2, 1]\n"
     ]
    }
   ],
   "source": [
    "#Implementing minheap\n",
    "#function definition\n",
    "#T.C:O(n)\n",
    "def heapify(arr,n,i):\n",
    "    smallest=i\n",
    "    l=2*i+1\n",
    "    r=2*i+2\n",
    "    if l<n and arr[l]<arr[smallest]:\n",
    "        smallest=l\n",
    "    if r<n and arr[r]<arr[smallest]:\n",
    "        smallest=r\n",
    "    if smallest !=i:\n",
    "        arr[smallest],arr[i]=arr[i],arr[smallest]\n",
    "        heapify(arr,n,smallest)         \n",
    "        \n",
    "    \n",
    "    \n",
    "    \n",
    "    \n",
    "    \n",
    "def BuildHeap(arr):\n",
    "    n=len(arr)\n",
    "    for i in range(n//2-1,-1,-1):\n",
    "        heapify(arr,n,i)\n",
    "    return arr\n",
    "    \n",
    "#driver code\n",
    "if __name__==\"__main__\":\n",
    "    arr=[7,3,9,1,6,2]\n",
    "    sorted_arr=BuildHeap(arr)\n",
    "    print(sorted_arr)\n",
    "    "
   ]
  },
  {
   "cell_type": "code",
   "execution_count": null,
   "id": "34711403",
   "metadata": {},
   "outputs": [],
   "source": []
  },
  {
   "cell_type": "code",
   "execution_count": null,
   "id": "218950c7",
   "metadata": {},
   "outputs": [],
   "source": []
  }
 ],
 "metadata": {
  "kernelspec": {
   "display_name": "Python 3 (ipykernel)",
   "language": "python",
   "name": "python3"
  },
  "language_info": {
   "codemirror_mode": {
    "name": "ipython",
    "version": 3
   },
   "file_extension": ".py",
   "mimetype": "text/x-python",
   "name": "python",
   "nbconvert_exporter": "python",
   "pygments_lexer": "ipython3",
   "version": "3.11.5"
  }
 },
 "nbformat": 4,
 "nbformat_minor": 5
}
