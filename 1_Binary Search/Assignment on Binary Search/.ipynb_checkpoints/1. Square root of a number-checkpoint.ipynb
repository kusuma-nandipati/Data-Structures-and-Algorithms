{
 "cells": [
  {
   "cell_type": "code",
   "execution_count": 6,
   "id": "d9c35441",
   "metadata": {},
   "outputs": [
    {
     "name": "stdout",
     "output_type": "stream",
     "text": [
      "enter element25\n",
      "5\n"
     ]
    }
   ],
   "source": [
    "#function definition\n",
    "#Brute-Force\n",
    "#T.C:O(x**0.5)\n",
    "def squareroot_function(element):\n",
    "    if element<2:\n",
    "        return element\n",
    "    i=1\n",
    "    while i*i<=element:\n",
    "        i +=1\n",
    "    return i-1\n",
    "#driver code\n",
    "if __name__==\"__main__\":\n",
    "    element=int(input(\"enter element\"))\n",
    "    result=squareroot_function(element)\n",
    "    print(result)"
   ]
  },
  {
   "cell_type": "code",
   "execution_count": 11,
   "id": "ac5275c7",
   "metadata": {},
   "outputs": [
    {
     "name": "stdout",
     "output_type": "stream",
     "text": [
      "enter element4\n",
      "2\n"
     ]
    }
   ],
   "source": [
    "#optimized approach using modified binary search\n",
    "#T.C:O(logns)\n",
    "def BSearch_squareroot(element):\n",
    "    if element<2:\n",
    "        return element\n",
    "    left,right=1,element//2\n",
    "    while left<=right:\n",
    "        mid =left+(right-left)//2\n",
    "        if mid *mid==element:\n",
    "            return mid\n",
    "        elif mid * mid < element:\n",
    "            ans = mid   # store candidate\n",
    "            left = mid + 1\n",
    "        else:\n",
    "            right = mid - 1\n",
    "    \n",
    "#driver code\n",
    "if __name__==\"__main__\":\n",
    "    element=int(input(\"enter element\"))\n",
    "    result=BSearch_squareroot(element)\n",
    "    print(result)"
   ]
  },
  {
   "cell_type": "code",
   "execution_count": null,
   "id": "6bd44377",
   "metadata": {},
   "outputs": [],
   "source": []
  }
 ],
 "metadata": {
  "kernelspec": {
   "display_name": "Python 3 (ipykernel)",
   "language": "python",
   "name": "python3"
  },
  "language_info": {
   "codemirror_mode": {
    "name": "ipython",
    "version": 3
   },
   "file_extension": ".py",
   "mimetype": "text/x-python",
   "name": "python",
   "nbconvert_exporter": "python",
   "pygments_lexer": "ipython3",
   "version": "3.11.5"
  }
 },
 "nbformat": 4,
 "nbformat_minor": 5
}
