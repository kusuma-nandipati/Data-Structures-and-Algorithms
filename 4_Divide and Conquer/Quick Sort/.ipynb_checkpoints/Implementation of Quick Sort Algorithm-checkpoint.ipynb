{
 "cells": [
  {
   "cell_type": "code",
   "execution_count": 8,
   "id": "d61e1709",
   "metadata": {},
   "outputs": [
    {
     "name": "stdout",
     "output_type": "stream",
     "text": [
      "[10, 20, 30, 40, 50]\n"
     ]
    }
   ],
   "source": [
    "#Time Complexity:\n",
    "       #Best/Averge Case:O(n log n)\n",
    "       #Worst Case:O(n^2)\n",
    "#Space Complexity:O(1)\n",
    "#method definition for partitioning \n",
    "def partition(arr,p,q):\n",
    "    pivot=arr[p]\n",
    "    i=p\n",
    "    for j in range(i+1,q+1):\n",
    "        if arr[j]<=pivot:\n",
    "            i +=1\n",
    "            arr[i],arr[j]=arr[j],arr[i]\n",
    "    arr[i],arr[p]=arr[p],arr[i]\n",
    "    return i\n",
    "#method definition for quicksort\n",
    "def QuickSort(arr,p,q):\n",
    "    if p<q:\n",
    "        m=partition(arr,p,q)#function call for array partitioning to left and right using pivot\n",
    "        QuickSort(arr,p,m-1)#recursive function call for left subtree\n",
    "        QuickSort(arr,m+1,q)#recursive function call for right subtree\n",
    "        return arr\n",
    "        \n",
    "        \n",
    "        \n",
    "        \n",
    "#driver code\n",
    "arr=[50,40,30,20,10]\n",
    "p=0\n",
    "q=len(arr)-1\n",
    "result=QuickSort(arr,p,q)\n",
    "print(result)"
   ]
  },
  {
   "cell_type": "code",
   "execution_count": 3,
   "id": "b54d6d6a",
   "metadata": {},
   "outputs": [
    {
     "name": "stdout",
     "output_type": "stream",
     "text": [
      "[10, 20, 30, 40, 50]\n"
     ]
    }
   ],
   "source": [
    "#Time Complexity:\n",
    "     #Best /Avergae Case:O(n log n)\n",
    "    #Worst Case Scenario :O(n^2)\n",
    "#Space Complexity:O(1)\n",
    "#method definition for selecting an random element\n",
    "import random\n",
    "def randomizedpartition(arr,p,q):\n",
    "    randomPivotElement=random.randrange(p,q)\n",
    "    arr[p],arr[randomPivotElement]=arr[randomPivotElement],arr[p]\n",
    "    return partition(arr,p,q)\n",
    "def partition(arr,p,q):\n",
    "    pivot=arr[p]\n",
    "    i=p\n",
    "    for j in range(i+1,q+1):\n",
    "        if arr[j]<=pivot:\n",
    "            i +=1\n",
    "            arr[i],arr[j]=arr[j],arr[i]\n",
    "    arr[i],arr[p]=arr[p],arr[i]\n",
    "    return i\n",
    "#method definition for quicksort\n",
    "def QuickSort(arr,p,q):\n",
    "    if p<q:\n",
    "        m=randomizedpartition(arr,p,q)#function call for array partitioning to left and right using pivot\n",
    "        QuickSort(arr,p,m-1)#recursive function call for left subtree\n",
    "        QuickSort(arr,m+1,q)#recursive function call for right subtree\n",
    "        return arr\n",
    "        \n",
    "        \n",
    "        \n",
    "        \n",
    "#driver code\n",
    "arr=[50,40,30,20,10]\n",
    "p=0\n",
    "q=len(arr)-1\n",
    "result=QuickSort(arr,p,q)\n",
    "print(result)\n",
    "\n",
    "\n",
    "\n",
    "\n",
    "\n"
   ]
  },
  {
   "cell_type": "code",
   "execution_count": null,
   "id": "9a5b3226",
   "metadata": {},
   "outputs": [],
   "source": []
  }
 ],
 "metadata": {
  "kernelspec": {
   "display_name": "Python 3 (ipykernel)",
   "language": "python",
   "name": "python3"
  },
  "language_info": {
   "codemirror_mode": {
    "name": "ipython",
    "version": 3
   },
   "file_extension": ".py",
   "mimetype": "text/x-python",
   "name": "python",
   "nbconvert_exporter": "python",
   "pygments_lexer": "ipython3",
   "version": "3.11.5"
  }
 },
 "nbformat": 4,
 "nbformat_minor": 5
}
